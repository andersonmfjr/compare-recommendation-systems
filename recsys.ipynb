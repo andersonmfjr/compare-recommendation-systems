{
 "cells": [
  {
   "cell_type": "markdown",
   "metadata": {},
   "source": [
    "# Sistemas de recomendação no Turismo"
   ]
  },
  {
   "cell_type": "markdown",
   "metadata": {},
   "source": [
    "---"
   ]
  },
  {
   "cell_type": "markdown",
   "metadata": {
    "toc-hr-collapsed": false
   },
   "source": [
    "## Filtragem colaborativa"
   ]
  },
  {
   "cell_type": "markdown",
   "metadata": {},
   "source": [
    "Sistemas de recomendação baseados em colaboração consistem na recomendação de itens que pessoas com gosto semelhante preferiram no passado. Um exemplo bem explicativo é o seguinte: \"Se um usuário gostou de laranjas e de maçãs, um outro usuário que gostou de laranjas também pode gostar de maçãs\".\n",
    "\n",
    "Esse tipo de sistema de recomendação tem mais aplicações práticas, como o caso da Amazon, por exemplo e evita o problema da sugestão de item repetitivos. A principal desvantagem é a exigência de mais informações dos usuários para funcionar mais precisamente. Existem dois tipos principais de filtragem colaborativa: baseada em usuário e baseada em item."
   ]
  },
  {
   "cell_type": "markdown",
   "metadata": {},
   "source": [
    "![Foto 1 - Comparativo entre user-based e item-based collaborative filtering](user-item-based.jpeg)"
   ]
  },
  {
   "cell_type": "markdown",
   "metadata": {},
   "source": [
    "### Filtragem colaborativa baseada em usuário"
   ]
  },
  {
   "cell_type": "markdown",
   "metadata": {},
   "source": [
    "É um algoritmo baseado em memória que calcula uma determinada pontuação de similaridade entre os usuários. Com base nessa pontuação, ele seleciona os usuários mais semelhantes e recomenda produtos que esses usuários semelhantes tenham gostado anteriormente."
   ]
  },
  {
   "cell_type": "markdown",
   "metadata": {},
   "source": [
    "Como pode ser visto na foto 1, Diego gostou de todos os pratos que o Caio gostou (camarão e carne) e de mais outros dois (sopa e salada). Considerando que Caio e Diego possuem gostos semelhantes, pela filtragem colaborativa baseada em usuários, seria recomendado para o Caio os outros dois pratos que Diego comeu: sopa e salada."
   ]
  },
  {
   "cell_type": "markdown",
   "metadata": {},
   "source": [
    "### Filtragem colaborativa baseada em item"
   ]
  },
  {
   "cell_type": "markdown",
   "metadata": {},
   "source": [
    "É um algoritmo baseado em modelo para fazer recomendações. Nesse algoritmo são calculadas as semelhanças entre cada par de itens, esses valores de similaridade são usados para prever classificações para pares de itens de um usuário Y que não estão presentes no conjunto de dados."
   ]
  },
  {
   "cell_type": "markdown",
   "metadata": {},
   "source": [
    "Por outro viés, voltando a olhar a foto 1, analisando a carne e a sopa, podemos ver eles foram desgustados e aprovados pela Maria e pelo Diego, logo, podemos dizer que esses pratos são \"semelhantes\". Dessa forma, por exemplo, como o Caio gostou da carne, pela filtragem colaborativa baseada em itens, seria recomendado para a ele um prato de sopa."
   ]
  },
  {
   "cell_type": "markdown",
   "metadata": {},
   "source": [
    "## Sistemas de recomendação baseados em modelo"
   ]
  },
  {
   "cell_type": "markdown",
   "metadata": {},
   "source": [
    "Em sistemas de recomendação baseados em modelo, as informações são extraídas da base de dados original para construir um \"exemplar\" dessa base, ou seja, um **modelo** dessa base original.\n",
    "\n",
    "**Vantagens:**\n",
    "\n",
    "- Escalabilidade\n",
    "- Velocidade na recomendação\n",
    "- Menor sobreajuste (_overfitting_)\n",
    "\n",
    "**Desvantagens:**\n",
    "\n",
    "- É mais inflexível\n",
    "- Dependendo da construção do modelo, a qualidade das previsões pode ser menor."
   ]
  },
  {
   "cell_type": "markdown",
   "metadata": {},
   "source": [
    "## Sistemas baseados em memória"
   ]
  },
  {
   "cell_type": "markdown",
   "metadata": {},
   "source": [
    "Em sistemas de recomendação baseados em memória, toda a base de dados é usada para calcular a similaridade e recomendar um item.\n",
    "\n",
    "**Vantagens:**\n",
    "\n",
    "- Possui uma implementação mais simples\n",
    "- As recomendações geralmente possuem mais qualidade\n",
    "\n",
    "**Desvantagens:**\n",
    "\n",
    "- É extramamente lento\n",
    "- Consome muitos recursos, como mémoria RAM\n",
    "- Pode adquirir sobreajuste (_overfitting_)"
   ]
  },
  {
   "cell_type": "markdown",
   "metadata": {
    "toc-hr-collapsed": true
   },
   "source": [
    "## Critérios de escolha do tipo de algoritmo baseado em colaboração"
   ]
  },
  {
   "cell_type": "markdown",
   "metadata": {},
   "source": [
    "Antes de explicar o resto dessa seção, vale mencionar que não estão sendo considerados algoritmos de sistemas de recomendação baseados em conteúdo por dois motivos principais: \n",
    "\n",
    "1. O principal problema dos sistemas baseado em conteúdo, recomendação \"repetitiva\" pesa muito no contexto de turismo. Se um turista já visitou três praias, por exemplo, não é interessante que seja recomendado para ele outra praia.\n",
    "2. Como evidência empírica, provou-se que os sitemas de recomendação baseados em colaboração garantem uma melhor personalização, agradando mais aos usuários."
   ]
  },
  {
   "cell_type": "markdown",
   "metadata": {},
   "source": [
    "### Velocidade e escalabilidade\n",
    "\n",
    "O ramo do turismo é dinâmico. É melhor que turistas passem mais tempo se divertindo do que esperando mais tempo por uma recomendação. Sendo assim, é importante que o sistema faça recomendações para usuários quase instataneamente. Atrelado a isso, é importante citar que a base de dados pode crescer bastante, sendo assim é importante garantir a escalabilidade para que o algoritmo recomende rapidamente mesmo que a base de dados cresça muito."
   ]
  },
  {
   "cell_type": "markdown",
   "metadata": {},
   "source": [
    "### Qualidade das previsões\n",
    "\n",
    "É necessário que o algoritmo faça boas recomendações sem deixar de lado o desempenho do mesmo."
   ]
  },
  {
   "cell_type": "markdown",
   "metadata": {},
   "source": [
    "### Fácil atualização\n",
    "\n",
    "O conjunto de dados é atualizado constantamente devido a coleta de avaliações. Sendo assim, o algoritmo deve manipular essa informação atualizada rapidamente. "
   ]
  },
  {
   "cell_type": "markdown",
   "metadata": {},
   "source": [
    "## Tipo de algoritmo escolhido"
   ]
  },
  {
   "cell_type": "markdown",
   "metadata": {},
   "source": [
    "Após a análise das vantagens e desvantages, resolvemos utilizar algoritmos baseados em modelo, mais especificamente, foi escolhido utilizar algoritmos de filtragem colaborativa baseada em itens."
   ]
  },
  {
   "cell_type": "markdown",
   "metadata": {
    "toc-hr-collapsed": false
   },
   "source": [
    "## Métricas de avaliação offline"
   ]
  },
  {
   "cell_type": "markdown",
   "metadata": {},
   "source": [
    "### _Precision_"
   ]
  },
  {
   "cell_type": "markdown",
   "metadata": {},
   "source": [
    "**De todos os itens recomendados, quantos deles o usuário realmente gostou?**\n",
    "\n",
    "A seguinte formulada é usada para o cálculo da _precision_:"
   ]
  },
  {
   "cell_type": "markdown",
   "metadata": {},
   "source": [
    "$$\n",
    "P = \\frac{tp}{tp + fp}\n",
    "$$"
   ]
  },
  {
   "cell_type": "markdown",
   "metadata": {},
   "source": [
    "Onde $tp$ é o número de itens recomendados que o usuário gostou e $tp + fp$ é o número total de itens recomendados.\n",
    "\n",
    "Vamos supor que dez itens tenham sido recomendados para o usuário e desses dez itens ele tenha gostado de 8, o cálculo da _precision_ seria da seguinte forma:\n",
    "\n",
    "$$\n",
    "P = \\frac{tp}{tp + fp} = \\frac{8}{10} = 0.8\n",
    "$$"
   ]
  },
  {
   "cell_type": "markdown",
   "metadata": {},
   "source": [
    "### _Recall_"
   ]
  },
  {
   "cell_type": "markdown",
   "metadata": {},
   "source": [
    "**Qual a proporção de itens que um usuário gosta foi realmente recomendada?**\n",
    "\n",
    "A seguinte fórmula é usada para calcular o _recall_:"
   ]
  },
  {
   "cell_type": "markdown",
   "metadata": {},
   "source": [
    "$$\n",
    "R = \\frac{tp}{tp + fn}\n",
    "$$"
   ]
  },
  {
   "cell_type": "markdown",
   "metadata": {},
   "source": [
    "Onde $tp$ é o número de itens recomendados que o usuário gosta e $tp + fn$ é o número total de itens que usuário gosta.\n",
    "Vamos supor que um usuário gosta de dez itens e o sistema recomenda para o usuário sete desses dez itens, o cálculo do _recall_ seria da seguinte forma:\n",
    "\n",
    "$$\n",
    "R = \\frac{tp}{tp + fn} = \\frac{7}{10} = 0.7\n",
    "$$"
   ]
  },
  {
   "cell_type": "markdown",
   "metadata": {},
   "source": [
    "**O objetivo nesses casos é maximizar tanto o _recall_ como a _precision_. Quanto maior o valor de ambos, melhor.**"
   ]
  },
  {
   "cell_type": "markdown",
   "metadata": {},
   "source": [
    "### _Root Mean Squared Error_ (RMSE)"
   ]
  },
  {
   "cell_type": "markdown",
   "metadata": {},
   "source": [
    "Calcula o erro das avaliações estimadas. A seguinte fórmula é usada para o cálculo do RMSE:\n",
    "\n",
    "$$\n",
    "\\text{RMSE} = \\sqrt{\\frac{1}{|\\hat{R}|} \\sum_{\\hat{r}_{ui} \\in\n",
    "\\hat{R}}(r_{ui} - \\hat{r}_{ui})^2}.\n",
    "$$"
   ]
  },
  {
   "cell_type": "markdown",
   "metadata": {},
   "source": [
    "Por exemplo, se um usuário avaliou um item com nota cinco e o sistema previu a nota quatro, o RMSE é um."
   ]
  },
  {
   "cell_type": "markdown",
   "metadata": {},
   "source": [
    "**Sendo assim, quanto menor o RMSE, melhor.**"
   ]
  },
  {
   "cell_type": "markdown",
   "metadata": {},
   "source": [
    "## Base de dados"
   ]
  },
  {
   "cell_type": "markdown",
   "metadata": {},
   "source": [
    "Foi utilizada a base de dados real de turismo com 31361 usuários, 92 locais e 76071 avaliações. Mais informações da mesma pode ser visto abaixo:"
   ]
  },
  {
   "cell_type": "code",
   "execution_count": 2,
   "metadata": {},
   "outputs": [
    {
     "data": {
      "text/html": [
       "<div>\n",
       "<style scoped>\n",
       "    .dataframe tbody tr th:only-of-type {\n",
       "        vertical-align: middle;\n",
       "    }\n",
       "\n",
       "    .dataframe tbody tr th {\n",
       "        vertical-align: top;\n",
       "    }\n",
       "\n",
       "    .dataframe thead th {\n",
       "        text-align: right;\n",
       "    }\n",
       "</style>\n",
       "<table border=\"1\" class=\"dataframe\">\n",
       "  <thead>\n",
       "    <tr style=\"text-align: right;\">\n",
       "      <th></th>\n",
       "      <th>usuário</th>\n",
       "      <th>item</th>\n",
       "      <th>avaliação</th>\n",
       "    </tr>\n",
       "  </thead>\n",
       "  <tbody>\n",
       "    <tr>\n",
       "      <th>9645</th>\n",
       "      <td>31361</td>\n",
       "      <td>92</td>\n",
       "      <td>4</td>\n",
       "    </tr>\n",
       "    <tr>\n",
       "      <th>1716</th>\n",
       "      <td>31360</td>\n",
       "      <td>45</td>\n",
       "      <td>5</td>\n",
       "    </tr>\n",
       "    <tr>\n",
       "      <th>19704</th>\n",
       "      <td>31360</td>\n",
       "      <td>87</td>\n",
       "      <td>5</td>\n",
       "    </tr>\n",
       "    <tr>\n",
       "      <th>25227</th>\n",
       "      <td>31359</td>\n",
       "      <td>87</td>\n",
       "      <td>3</td>\n",
       "    </tr>\n",
       "    <tr>\n",
       "      <th>5245</th>\n",
       "      <td>31359</td>\n",
       "      <td>45</td>\n",
       "      <td>5</td>\n",
       "    </tr>\n",
       "  </tbody>\n",
       "</table>\n",
       "</div>"
      ],
      "text/plain": [
       "       usuário  item  avaliação\n",
       "9645     31361    92          4\n",
       "1716     31360    45          5\n",
       "19704    31360    87          5\n",
       "25227    31359    87          3\n",
       "5245     31359    45          5"
      ]
     },
     "execution_count": 2,
     "metadata": {},
     "output_type": "execute_result"
    }
   ],
   "source": [
    "import random\n",
    "import numpy as np\n",
    "import pandas as pd\n",
    "\n",
    "data_v = pd.read_csv('tourismn.csv', names=['usuário', 'item', 'avaliação'])\n",
    "data_v.sort_values(by=['usuário'], ascending=False).head()"
   ]
  },
  {
   "cell_type": "code",
   "execution_count": 3,
   "metadata": {},
   "outputs": [
    {
     "data": {
      "text/html": [
       "<div>\n",
       "<style scoped>\n",
       "    .dataframe tbody tr th:only-of-type {\n",
       "        vertical-align: middle;\n",
       "    }\n",
       "\n",
       "    .dataframe tbody tr th {\n",
       "        vertical-align: top;\n",
       "    }\n",
       "\n",
       "    .dataframe thead th {\n",
       "        text-align: right;\n",
       "    }\n",
       "</style>\n",
       "<table border=\"1\" class=\"dataframe\">\n",
       "  <thead>\n",
       "    <tr style=\"text-align: right;\">\n",
       "      <th></th>\n",
       "      <th>usuário</th>\n",
       "      <th>item</th>\n",
       "      <th>avaliação</th>\n",
       "    </tr>\n",
       "  </thead>\n",
       "  <tbody>\n",
       "    <tr>\n",
       "      <th>7186</th>\n",
       "      <td>16224</td>\n",
       "      <td>92</td>\n",
       "      <td>3</td>\n",
       "    </tr>\n",
       "    <tr>\n",
       "      <th>7957</th>\n",
       "      <td>16027</td>\n",
       "      <td>92</td>\n",
       "      <td>4</td>\n",
       "    </tr>\n",
       "    <tr>\n",
       "      <th>7950</th>\n",
       "      <td>27961</td>\n",
       "      <td>92</td>\n",
       "      <td>5</td>\n",
       "    </tr>\n",
       "    <tr>\n",
       "      <th>7951</th>\n",
       "      <td>15708</td>\n",
       "      <td>92</td>\n",
       "      <td>5</td>\n",
       "    </tr>\n",
       "    <tr>\n",
       "      <th>7952</th>\n",
       "      <td>7412</td>\n",
       "      <td>92</td>\n",
       "      <td>5</td>\n",
       "    </tr>\n",
       "  </tbody>\n",
       "</table>\n",
       "</div>"
      ],
      "text/plain": [
       "      usuário  item  avaliação\n",
       "7186    16224    92          3\n",
       "7957    16027    92          4\n",
       "7950    27961    92          5\n",
       "7951    15708    92          5\n",
       "7952     7412    92          5"
      ]
     },
     "execution_count": 3,
     "metadata": {},
     "output_type": "execute_result"
    }
   ],
   "source": [
    "data_v.sort_values(by=['item'], ascending=False).head()"
   ]
  },
  {
   "cell_type": "code",
   "execution_count": 4,
   "metadata": {},
   "outputs": [
    {
     "name": "stdout",
     "output_type": "stream",
     "text": [
      "<class 'pandas.core.frame.DataFrame'>\n",
      "RangeIndex: 76071 entries, 0 to 76070\n",
      "Data columns (total 3 columns):\n",
      "usuário      76071 non-null int64\n",
      "item         76071 non-null int64\n",
      "avaliação    76071 non-null int64\n",
      "dtypes: int64(3)\n",
      "memory usage: 1.7 MB\n"
     ]
    }
   ],
   "source": [
    "data_v.info()"
   ]
  },
  {
   "cell_type": "markdown",
   "metadata": {},
   "source": [
    "## Cálculo das métricas nos algoritmos"
   ]
  },
  {
   "cell_type": "code",
   "execution_count": 40,
   "metadata": {},
   "outputs": [],
   "source": [
    "from collections import defaultdict\n",
    "\n",
    "from surprise import Reader, Dataset\n",
    "from surprise import KNNBasic, KNNWithMeans, KNNWithZScore, KNNBaseline\n",
    "from surprise import SVD, SVDpp, NMF\n",
    "from surprise import NormalPredictor, BaselineOnly\n",
    "from surprise import CoClustering, SlopeOne\n",
    "from surprise.model_selection import cross_validate, KFold, GridSearchCV"
   ]
  },
  {
   "cell_type": "code",
   "execution_count": 6,
   "metadata": {},
   "outputs": [],
   "source": [
    "random.seed(0)\n",
    "np.random.seed(0)\n",
    "\n",
    "reader = Reader(line_format='user item rating', sep=',', rating_scale=(1,5))\n",
    "data = Dataset.load_from_file('tourismn.csv', reader=reader)"
   ]
  },
  {
   "cell_type": "code",
   "execution_count": 7,
   "metadata": {},
   "outputs": [],
   "source": [
    "def crossvalidate(algorithm):\n",
    "    return cross_validate(algorithm, data, measures=['RMSE'], cv=5, verbose=False)"
   ]
  },
  {
   "cell_type": "code",
   "execution_count": 8,
   "metadata": {},
   "outputs": [],
   "source": [
    "def calculateRMSEFinalMean(algorithm):\n",
    "    return np.mean(algorithm['test_rmse'])"
   ]
  },
  {
   "cell_type": "code",
   "execution_count": 9,
   "metadata": {},
   "outputs": [],
   "source": [
    "def precision_recall_at_k(predictions, k=10, threshold=3.5):\n",
    "    # First map the predictions to each user.\n",
    "    user_est_true = defaultdict(list)\n",
    "    for uid, _, true_r, est, _ in predictions:\n",
    "        user_est_true[uid].append((est, true_r))\n",
    "\n",
    "    precisions = dict()\n",
    "    recalls = dict()\n",
    "    for uid, user_ratings in user_est_true.items():\n",
    "\n",
    "        # Sort user ratings by estimated value\n",
    "        user_ratings.sort(key=lambda x: x[0], reverse=True)\n",
    "\n",
    "        # Number of relevant items\n",
    "        n_rel = sum((true_r >= threshold) for (_, true_r) in user_ratings)\n",
    "\n",
    "        # Number of recommended items in top k\n",
    "        n_rec_k = sum((est >= threshold) for (est, _) in user_ratings[:k])\n",
    "\n",
    "        # Number of relevant and recommended items in top k\n",
    "        n_rel_and_rec_k = sum(((true_r >= threshold) and (est >= threshold))\n",
    "                              for (est, true_r) in user_ratings[:k])\n",
    "\n",
    "        # Precision@K: Proportion of recommended items that are relevant\n",
    "        precisions[uid] = n_rel_and_rec_k / n_rec_k if n_rec_k != 0 else 1\n",
    "\n",
    "        # Recall@K: Proportion of relevant items that are recommended\n",
    "        recalls[uid] = n_rel_and_rec_k / n_rel if n_rel != 0 else 1\n",
    "\n",
    "    return precisions, recalls"
   ]
  },
  {
   "cell_type": "code",
   "execution_count": 10,
   "metadata": {},
   "outputs": [],
   "source": [
    "kf = KFold(n_splits=5)\n",
    "\n",
    "# k = items\n",
    "def precs(algo):\n",
    "    precisions_ = []\n",
    "    for trainset, testset in kf.split(data):\n",
    "        algo.fit(trainset)\n",
    "        predictions = algo.test(testset)\n",
    "        precisions, recalls = precision_recall_at_k(predictions, k=5, threshold=4)\n",
    "\n",
    "        # Precision and recall can then be averaged over all users\n",
    "        precisions_.append(sum(prec for prec in precisions.values()) / len(precisions))\n",
    "    \n",
    "    return np.mean(precisions_)\n",
    "\n",
    "def recs(algo):\n",
    "    recalls_ = []\n",
    "    for trainset, testset in kf.split(data):\n",
    "        algo.fit(trainset)\n",
    "        predictions = algo.test(testset)\n",
    "        precisions, recalls = precision_recall_at_k(predictions, k=5, threshold=4)\n",
    "\n",
    "        # Precision and recall can then be averaged over all users\n",
    "        recalls_.append(sum(rec for rec in recalls.values()) / len(recalls))\n",
    "    \n",
    "    return np.mean(recalls_)"
   ]
  },
  {
   "cell_type": "code",
   "execution_count": 11,
   "metadata": {},
   "outputs": [],
   "source": [
    "sim_options_cosine = {'name': 'cosine','user_based': False}\n",
    "sim_options_msd = {'name': 'msd','user_based': False}\n",
    "sim_options_pearson = {'name': 'pearson','user_based': False}\n",
    "sim_options_baseline = {'name': 'pearson_baseline','user_based': False, 'shrinkage': 0}"
   ]
  },
  {
   "cell_type": "code",
   "execution_count": 12,
   "metadata": {},
   "outputs": [],
   "source": [
    "knn_1 = KNNBasic(sim_options=sim_options_cosine, verbose=False)\n",
    "\n",
    "kNNBasicCos = crossvalidate(knn_1)\n",
    "rmse_kNNBasicCos = calculateRMSEFinalMean(kNNBasicCos)\n",
    "pandr_kNNBasicCos = (precs(knn_1), recs(knn_1))"
   ]
  },
  {
   "cell_type": "code",
   "execution_count": 13,
   "metadata": {},
   "outputs": [],
   "source": [
    "knn_2 = KNNBasic(sim_options=sim_options_msd, verbose=False)\n",
    "\n",
    "kNNBasicMSD = crossvalidate(knn_2)\n",
    "rmse_kNNBasicMSD = calculateRMSEFinalMean(kNNBasicMSD)\n",
    "pandr_kNNBasicMSD = (precs(knn_2), recs(knn_2))"
   ]
  },
  {
   "cell_type": "code",
   "execution_count": 14,
   "metadata": {},
   "outputs": [],
   "source": [
    "knn_3 = KNNBasic(sim_options=sim_options_pearson, verbose=False)\n",
    "\n",
    "kNNBasicPearson = crossvalidate(knn_3)\n",
    "rmse_kNNBasicPearson = calculateRMSEFinalMean(kNNBasicPearson)\n",
    "pandr_kNNBasicPearson = (precs(knn_3), recs(knn_3))"
   ]
  },
  {
   "cell_type": "code",
   "execution_count": 15,
   "metadata": {},
   "outputs": [],
   "source": [
    "knn_4 = KNNBasic(sim_options=sim_options_baseline, verbose=False)\n",
    "\n",
    "kNNBasicPearsonB = crossvalidate(knn_4)\n",
    "rmse_kNNBasicPearsonB = calculateRMSEFinalMean(kNNBasicPearsonB)\n",
    "pandr_kNNBasicPearsonB = (precs(knn_4), recs(knn_4))"
   ]
  },
  {
   "cell_type": "code",
   "execution_count": 16,
   "metadata": {},
   "outputs": [],
   "source": [
    "knn_5 = KNNWithMeans(sim_options=sim_options_cosine, verbose=False)\n",
    "\n",
    "kNNMeansCos = crossvalidate(knn_5)\n",
    "rmse_kNNMeansCos = calculateRMSEFinalMean(kNNMeansCos)\n",
    "pandr_kNNMeansCos = (precs(knn_5), recs(knn_5))"
   ]
  },
  {
   "cell_type": "code",
   "execution_count": 17,
   "metadata": {},
   "outputs": [],
   "source": [
    "knn_6 = KNNWithMeans(sim_options=sim_options_msd, verbose=False)\n",
    "\n",
    "kNNMeansMSD = crossvalidate(knn_6)\n",
    "rmse_kNNMeansMSD = calculateRMSEFinalMean(kNNMeansMSD)\n",
    "pandr_kNNMeansMSD = (precs(knn_6), recs(knn_6))"
   ]
  },
  {
   "cell_type": "code",
   "execution_count": 18,
   "metadata": {},
   "outputs": [],
   "source": [
    "knn_7 = KNNWithMeans(sim_options=sim_options_pearson, verbose=False)\n",
    "\n",
    "kNNMeansPearson = crossvalidate(knn_7)\n",
    "rmse_kNNMeansPearson = calculateRMSEFinalMean(kNNMeansPearson)\n",
    "pandr_kNNMeansPearson = (precs(knn_7), recs(knn_7))"
   ]
  },
  {
   "cell_type": "code",
   "execution_count": 19,
   "metadata": {},
   "outputs": [],
   "source": [
    "knn_8 = KNNWithMeans(sim_options=sim_options_baseline, verbose=False)\n",
    "\n",
    "kNNMeansPearsonB = crossvalidate(knn_8)\n",
    "rmse_kNNMeansPearsonB = calculateRMSEFinalMean(kNNMeansPearsonB)\n",
    "pandr_kNNMeansPearsonB = (precs(knn_8), recs(knn_8))"
   ]
  },
  {
   "cell_type": "code",
   "execution_count": 20,
   "metadata": {},
   "outputs": [],
   "source": [
    "knn_9 = KNNWithZScore(sim_options=sim_options_cosine, verbose=False)\n",
    "\n",
    "kNNZCos = crossvalidate(knn_9)\n",
    "rmse_kNNZCos = calculateRMSEFinalMean(kNNZCos)\n",
    "pandr_kNNZCos = (precs(knn_9), recs(knn_9))"
   ]
  },
  {
   "cell_type": "code",
   "execution_count": 21,
   "metadata": {},
   "outputs": [],
   "source": [
    "knn_10 = KNNWithZScore(sim_options=sim_options_msd, verbose=False)\n",
    "\n",
    "kNNZMSD = crossvalidate(knn_10)\n",
    "rmse_kNNZMSD = calculateRMSEFinalMean(kNNZMSD)\n",
    "pandr_kNNZMSD = (precs(knn_10), recs(knn_10))"
   ]
  },
  {
   "cell_type": "code",
   "execution_count": 22,
   "metadata": {},
   "outputs": [],
   "source": [
    "knn_11 = KNNWithZScore(sim_options=sim_options_pearson, verbose=False)\n",
    "\n",
    "kNNZPearson = crossvalidate(knn_11)\n",
    "rmse_kNNZPearson = calculateRMSEFinalMean(kNNZPearson)\n",
    "pandr_kNNZPearson = (precs(knn_11), recs(knn_11))"
   ]
  },
  {
   "cell_type": "code",
   "execution_count": 23,
   "metadata": {},
   "outputs": [],
   "source": [
    "knn_12 = KNNWithZScore(sim_options=sim_options_baseline, verbose=False)\n",
    "\n",
    "kNNZPearsonB = crossvalidate(knn_12)\n",
    "rmse_kNNZPearsonB = calculateRMSEFinalMean(kNNZPearsonB)\n",
    "pandr_kNNZPearsonB = (precs(knn_12), recs(knn_12))"
   ]
  },
  {
   "cell_type": "code",
   "execution_count": 24,
   "metadata": {},
   "outputs": [],
   "source": [
    "knn_13 = KNNBaseline(sim_options=sim_options_cosine, verbose=False)\n",
    "\n",
    "kNNBaseCos = crossvalidate(knn_13)\n",
    "rmse_kNNBaseCos = calculateRMSEFinalMean(kNNBaseCos)\n",
    "pandr_kNNBaseCos = (precs(knn_13), recs(knn_13))"
   ]
  },
  {
   "cell_type": "code",
   "execution_count": 25,
   "metadata": {},
   "outputs": [],
   "source": [
    "knn_14 = KNNBaseline(sim_options=sim_options_msd, verbose=False)\n",
    "\n",
    "kNNBaseMSD = crossvalidate(knn_14)\n",
    "rmse_kNNBaseMSD = calculateRMSEFinalMean(kNNBaseMSD)\n",
    "pandr_kNNBaseMSD = (precs(knn_14), recs(knn_14))"
   ]
  },
  {
   "cell_type": "code",
   "execution_count": 26,
   "metadata": {},
   "outputs": [],
   "source": [
    "knn_15 = KNNBaseline(sim_options=sim_options_pearson, verbose=False)\n",
    "\n",
    "kNNBasePearson = crossvalidate(knn_15)\n",
    "rmse_kNNBasePearson = calculateRMSEFinalMean(kNNBasePearson)\n",
    "pandr_kNNBasePearson = (precs(knn_15), recs(knn_15))"
   ]
  },
  {
   "cell_type": "code",
   "execution_count": 27,
   "metadata": {},
   "outputs": [],
   "source": [
    "knn_16 = KNNBaseline(sim_options=sim_options_baseline, verbose=False)\n",
    "\n",
    "kNNBasePearsonB = crossvalidate(knn_16)\n",
    "rmse_kNNBasePearsonB = calculateRMSEFinalMean(kNNBasePearsonB)\n",
    "pandr_kNNBasePearsonB = (precs(knn_16), recs(knn_16))"
   ]
  },
  {
   "cell_type": "code",
   "execution_count": 28,
   "metadata": {},
   "outputs": [],
   "source": [
    "svd_ = SVD(verbose=False)\n",
    "\n",
    "svd = crossvalidate(svd_)\n",
    "rmse_svd = calculateRMSEFinalMean(svd)\n",
    "pandr_svd = (precs(svd_), recs(svd_))"
   ]
  },
  {
   "cell_type": "code",
   "execution_count": 29,
   "metadata": {},
   "outputs": [],
   "source": [
    "svdpp_ = SVDpp(verbose=False)\n",
    "\n",
    "svdpp = crossvalidate(svdpp_)\n",
    "rmse_svdpp = calculateRMSEFinalMean(svdpp)\n",
    "pandr_svdpp = (precs(svdpp_), recs(svdpp_))"
   ]
  },
  {
   "cell_type": "code",
   "execution_count": 30,
   "metadata": {},
   "outputs": [],
   "source": [
    "nmf_ = NMF(verbose=False)\n",
    "\n",
    "nmf = crossvalidate(nmf_)\n",
    "rmse_nmf = calculateRMSEFinalMean(nmf)\n",
    "pandr_nmf = (precs(nmf_), recs(nmf_))"
   ]
  },
  {
   "cell_type": "code",
   "execution_count": 31,
   "metadata": {},
   "outputs": [],
   "source": [
    "baseline_ = BaselineOnly(verbose=False)\n",
    "\n",
    "baselineOnly = crossvalidate(baseline_)\n",
    "rmse_baselineOnly = calculateRMSEFinalMean(baselineOnly)\n",
    "pandr_baselineOnly = (precs(baseline_), recs(baseline_))"
   ]
  },
  {
   "cell_type": "code",
   "execution_count": 32,
   "metadata": {},
   "outputs": [],
   "source": [
    "cocluster_ = CoClustering(verbose=False)\n",
    "\n",
    "coClustering = crossvalidate(cocluster_)\n",
    "rmse_coClustering = calculateRMSEFinalMean(coClustering)\n",
    "pandr_coClustering = (precs(cocluster_), recs(cocluster_))"
   ]
  },
  {
   "cell_type": "code",
   "execution_count": 33,
   "metadata": {},
   "outputs": [],
   "source": [
    "slope_ = SlopeOne()\n",
    "\n",
    "slopeOne = crossvalidate(slope_)\n",
    "rmse_slopeOne = calculateRMSEFinalMean(slopeOne)\n",
    "pandr_slopeOne = (precs(slope_), recs(slope_))"
   ]
  },
  {
   "cell_type": "code",
   "execution_count": null,
   "metadata": {},
   "outputs": [],
   "source": [
    "names = [\n",
    "        'kNN Basic - Cosine', \n",
    "        'kNN Basic - MSD', \n",
    "        'kNN Basic - Pearson', \n",
    "        'kNN Basic - Pearson B', \n",
    "        'kNN Means - Cosine', \n",
    "        'kNN Means - MSD',\n",
    "        'kNN Means - Pearson',\n",
    "        'kNN Means - Pearson B',\n",
    "        'kNN Z - Cosine', \n",
    "        'kNN Z - MSD', \n",
    "        'kNN Z - Pearson',\n",
    "        'kNN Z - Pearson B',\n",
    "        'kNN Baseline - Cosine', \n",
    "        'kNN Baseline - MSD', \n",
    "        'kNN Baseline - Pearson', \n",
    "        'kNN Baseline - Pearson B',\n",
    "        'SVD', \n",
    "        'SVDpp', \n",
    "        'Baseline Only',\n",
    "        'CoClustering', \n",
    "        'SlopeOne',\n",
    "        'NMF'\n",
    "        ]\n",
    "\n",
    "scoresRMSE = [\n",
    "            rmse_kNNBasicCos, \n",
    "            rmse_kNNBasicMSD, \n",
    "            rmse_kNNBasicPearson, \n",
    "            rmse_kNNBasicPearsonB,\n",
    "            rmse_kNNMeansCos, \n",
    "            rmse_kNNMeansMSD, \n",
    "            rmse_kNNMeansPearson, \n",
    "            rmse_kNNMeansPearsonB,\n",
    "            rmse_kNNZCos, \n",
    "            rmse_kNNZMSD, \n",
    "            rmse_kNNZPearson, \n",
    "            rmse_kNNZPearsonB,\n",
    "            rmse_kNNBaseCos, \n",
    "            rmse_kNNBaseMSD, \n",
    "            rmse_kNNBasePearson, \n",
    "            rmse_kNNBasePearsonB,\n",
    "            rmse_svd, \n",
    "            rmse_svdpp,\n",
    "            rmse_baselineOnly,\n",
    "            rmse_coClustering, \n",
    "            rmse_slopeOne,\n",
    "            rmse_nmf\n",
    "            ]\n",
    "\n",
    "scoresPrecision = [\n",
    "            pandr_kNNBasicCos[0], \n",
    "            pandr_kNNBasicMSD[0], \n",
    "            pandr_kNNBasicPearson[0], \n",
    "            pandr_kNNBasicPearsonB[0],\n",
    "            pandr_kNNMeansCos[0], \n",
    "            pandr_kNNMeansMSD[0], \n",
    "            pandr_kNNMeansPearson[0], \n",
    "            pandr_kNNMeansPearsonB[0],\n",
    "            pandr_kNNZCos[0], \n",
    "            pandr_kNNZMSD[0], \n",
    "            pandr_kNNZPearson[0], \n",
    "            pandr_kNNZPearsonB[0],\n",
    "            pandr_kNNBaseCos[0], \n",
    "            pandr_kNNBaseMSD[0], \n",
    "            pandr_kNNBasePearson[0], \n",
    "            pandr_kNNBasePearsonB[0],\n",
    "            pandr_svd[0], \n",
    "            pandr_svdpp[0],\n",
    "            pandr_baselineOnly[0],\n",
    "            pandr_coClustering[0], \n",
    "            pandr_slopeOne[0],\n",
    "            pandr_nmf[0]\n",
    "            ]\n",
    "\n",
    "scoresRecalls = [\n",
    "            pandr_kNNBasicCos[1], \n",
    "            pandr_kNNBasicMSD[1], \n",
    "            pandr_kNNBasicPearson[1], \n",
    "            pandr_kNNBasicPearsonB[1],\n",
    "            pandr_kNNMeansCos[1], \n",
    "            pandr_kNNMeansMSD[1], \n",
    "            pandr_kNNMeansPearson[1], \n",
    "            pandr_kNNMeansPearsonB[1],\n",
    "            pandr_kNNZCos[1], \n",
    "            pandr_kNNZMSD[1], \n",
    "            pandr_kNNZPearson[1], \n",
    "            pandr_kNNZPearsonB[1],\n",
    "            pandr_kNNBaseCos[1], \n",
    "            pandr_kNNBaseMSD[1], \n",
    "            pandr_kNNBasePearson[1], \n",
    "            pandr_kNNBasePearsonB[1],\n",
    "            pandr_svd[1], \n",
    "            pandr_svdpp[1],\n",
    "            pandr_baselineOnly[1],\n",
    "            pandr_coClustering[1], \n",
    "            pandr_slopeOne[1],\n",
    "            pandr_nmf[1]\n",
    "            ]"
   ]
  },
  {
   "cell_type": "code",
   "execution_count": 35,
   "metadata": {},
   "outputs": [],
   "source": [
    "dict_ = {\n",
    "    'Algorithm': names,\n",
    "    'RMSE': scoresRMSE,\n",
    "    'Precision': scoresPrecision,\n",
    "    'Recall': scoresRecalls\n",
    "}"
   ]
  },
  {
   "cell_type": "code",
   "execution_count": 36,
   "metadata": {},
   "outputs": [],
   "source": [
    "df = pd.DataFrame(data=dict_)"
   ]
  },
  {
   "cell_type": "markdown",
   "metadata": {},
   "source": [
    "### Resultados"
   ]
  },
  {
   "cell_type": "markdown",
   "metadata": {},
   "source": [
    "---"
   ]
  },
  {
   "cell_type": "markdown",
   "metadata": {},
   "source": [
    "Relembrando as métricas para avaliação, o algoritmo mais apropriado para o caso em questão é aquele que possui **o resultado do RMSE mais baixo** e **os cálculos da _precision_ e do _recall_, ambos, mais altos**. É importante fixar que temos como objetivo encontrar um algoritmo que esteja nivelado nessas duas exigências, não adianta por exemplo ter um RMSE extramamente baixo e um _recall_ extramamente baixo também."
   ]
  },
  {
   "cell_type": "code",
   "execution_count": 37,
   "metadata": {},
   "outputs": [
    {
     "data": {
      "text/html": [
       "<div>\n",
       "<style scoped>\n",
       "    .dataframe tbody tr th:only-of-type {\n",
       "        vertical-align: middle;\n",
       "    }\n",
       "\n",
       "    .dataframe tbody tr th {\n",
       "        vertical-align: top;\n",
       "    }\n",
       "\n",
       "    .dataframe thead th {\n",
       "        text-align: right;\n",
       "    }\n",
       "</style>\n",
       "<table border=\"1\" class=\"dataframe\">\n",
       "  <thead>\n",
       "    <tr style=\"text-align: right;\">\n",
       "      <th></th>\n",
       "      <th>Algorithm</th>\n",
       "      <th>RMSE</th>\n",
       "      <th>Precision</th>\n",
       "      <th>Recall</th>\n",
       "    </tr>\n",
       "  </thead>\n",
       "  <tbody>\n",
       "    <tr>\n",
       "      <th>18</th>\n",
       "      <td>Baseline Only</td>\n",
       "      <td>0.887368</td>\n",
       "      <td>0.856771</td>\n",
       "      <td>0.919997</td>\n",
       "    </tr>\n",
       "    <tr>\n",
       "      <th>16</th>\n",
       "      <td>SVD</td>\n",
       "      <td>0.904947</td>\n",
       "      <td>0.863477</td>\n",
       "      <td>0.871282</td>\n",
       "    </tr>\n",
       "    <tr>\n",
       "      <th>17</th>\n",
       "      <td>SVDpp</td>\n",
       "      <td>0.909414</td>\n",
       "      <td>0.864176</td>\n",
       "      <td>0.889405</td>\n",
       "    </tr>\n",
       "    <tr>\n",
       "      <th>15</th>\n",
       "      <td>kNN Baseline - Pearson B</td>\n",
       "      <td>0.984349</td>\n",
       "      <td>0.860136</td>\n",
       "      <td>0.881130</td>\n",
       "    </tr>\n",
       "    <tr>\n",
       "      <th>7</th>\n",
       "      <td>kNN Means - Pearson B</td>\n",
       "      <td>0.985400</td>\n",
       "      <td>0.849444</td>\n",
       "      <td>0.907843</td>\n",
       "    </tr>\n",
       "  </tbody>\n",
       "</table>\n",
       "</div>"
      ],
      "text/plain": [
       "                   Algorithm      RMSE  Precision    Recall\n",
       "18             Baseline Only  0.887368   0.856771  0.919997\n",
       "16                       SVD  0.904947   0.863477  0.871282\n",
       "17                     SVDpp  0.909414   0.864176  0.889405\n",
       "15  kNN Baseline - Pearson B  0.984349   0.860136  0.881130\n",
       "7      kNN Means - Pearson B  0.985400   0.849444  0.907843"
      ]
     },
     "execution_count": 37,
     "metadata": {},
     "output_type": "execute_result"
    }
   ],
   "source": [
    "df.sort_values(by=['RMSE']).head()"
   ]
  },
  {
   "cell_type": "code",
   "execution_count": 38,
   "metadata": {},
   "outputs": [
    {
     "data": {
      "text/html": [
       "<div>\n",
       "<style scoped>\n",
       "    .dataframe tbody tr th:only-of-type {\n",
       "        vertical-align: middle;\n",
       "    }\n",
       "\n",
       "    .dataframe tbody tr th {\n",
       "        vertical-align: top;\n",
       "    }\n",
       "\n",
       "    .dataframe thead th {\n",
       "        text-align: right;\n",
       "    }\n",
       "</style>\n",
       "<table border=\"1\" class=\"dataframe\">\n",
       "  <thead>\n",
       "    <tr style=\"text-align: right;\">\n",
       "      <th></th>\n",
       "      <th>Algorithm</th>\n",
       "      <th>RMSE</th>\n",
       "      <th>Precision</th>\n",
       "      <th>Recall</th>\n",
       "    </tr>\n",
       "  </thead>\n",
       "  <tbody>\n",
       "    <tr>\n",
       "      <th>21</th>\n",
       "      <td>NMF</td>\n",
       "      <td>1.132062</td>\n",
       "      <td>0.902238</td>\n",
       "      <td>0.647081</td>\n",
       "    </tr>\n",
       "    <tr>\n",
       "      <th>13</th>\n",
       "      <td>kNN Baseline - MSD</td>\n",
       "      <td>1.021009</td>\n",
       "      <td>0.878516</td>\n",
       "      <td>0.806803</td>\n",
       "    </tr>\n",
       "    <tr>\n",
       "      <th>12</th>\n",
       "      <td>kNN Baseline - Cosine</td>\n",
       "      <td>1.022989</td>\n",
       "      <td>0.877679</td>\n",
       "      <td>0.807222</td>\n",
       "    </tr>\n",
       "    <tr>\n",
       "      <th>4</th>\n",
       "      <td>kNN Means - Cosine</td>\n",
       "      <td>1.026102</td>\n",
       "      <td>0.872733</td>\n",
       "      <td>0.820434</td>\n",
       "    </tr>\n",
       "    <tr>\n",
       "      <th>19</th>\n",
       "      <td>CoClustering</td>\n",
       "      <td>1.052364</td>\n",
       "      <td>0.872687</td>\n",
       "      <td>0.814877</td>\n",
       "    </tr>\n",
       "    <tr>\n",
       "      <th>9</th>\n",
       "      <td>kNN Z - MSD</td>\n",
       "      <td>1.029817</td>\n",
       "      <td>0.872260</td>\n",
       "      <td>0.823811</td>\n",
       "    </tr>\n",
       "    <tr>\n",
       "      <th>20</th>\n",
       "      <td>SlopeOne</td>\n",
       "      <td>1.031187</td>\n",
       "      <td>0.872003</td>\n",
       "      <td>0.818548</td>\n",
       "    </tr>\n",
       "    <tr>\n",
       "      <th>14</th>\n",
       "      <td>kNN Baseline - Pearson</td>\n",
       "      <td>1.044356</td>\n",
       "      <td>0.871899</td>\n",
       "      <td>0.823381</td>\n",
       "    </tr>\n",
       "    <tr>\n",
       "      <th>8</th>\n",
       "      <td>kNN Z - Cosine</td>\n",
       "      <td>1.032567</td>\n",
       "      <td>0.871584</td>\n",
       "      <td>0.825772</td>\n",
       "    </tr>\n",
       "    <tr>\n",
       "      <th>5</th>\n",
       "      <td>kNN Means - MSD</td>\n",
       "      <td>1.026867</td>\n",
       "      <td>0.871545</td>\n",
       "      <td>0.820742</td>\n",
       "    </tr>\n",
       "    <tr>\n",
       "      <th>6</th>\n",
       "      <td>kNN Means - Pearson</td>\n",
       "      <td>1.050895</td>\n",
       "      <td>0.865610</td>\n",
       "      <td>0.837697</td>\n",
       "    </tr>\n",
       "    <tr>\n",
       "      <th>17</th>\n",
       "      <td>SVDpp</td>\n",
       "      <td>0.909414</td>\n",
       "      <td>0.864176</td>\n",
       "      <td>0.889405</td>\n",
       "    </tr>\n",
       "    <tr>\n",
       "      <th>10</th>\n",
       "      <td>kNN Z - Pearson</td>\n",
       "      <td>1.047561</td>\n",
       "      <td>0.864059</td>\n",
       "      <td>0.839341</td>\n",
       "    </tr>\n",
       "    <tr>\n",
       "      <th>16</th>\n",
       "      <td>SVD</td>\n",
       "      <td>0.904947</td>\n",
       "      <td>0.863477</td>\n",
       "      <td>0.871282</td>\n",
       "    </tr>\n",
       "    <tr>\n",
       "      <th>15</th>\n",
       "      <td>kNN Baseline - Pearson B</td>\n",
       "      <td>0.984349</td>\n",
       "      <td>0.860136</td>\n",
       "      <td>0.881130</td>\n",
       "    </tr>\n",
       "    <tr>\n",
       "      <th>0</th>\n",
       "      <td>kNN Basic - Cosine</td>\n",
       "      <td>1.067450</td>\n",
       "      <td>0.857239</td>\n",
       "      <td>0.863415</td>\n",
       "    </tr>\n",
       "    <tr>\n",
       "      <th>18</th>\n",
       "      <td>Baseline Only</td>\n",
       "      <td>0.887368</td>\n",
       "      <td>0.856771</td>\n",
       "      <td>0.919997</td>\n",
       "    </tr>\n",
       "    <tr>\n",
       "      <th>1</th>\n",
       "      <td>kNN Basic - MSD</td>\n",
       "      <td>1.068189</td>\n",
       "      <td>0.856199</td>\n",
       "      <td>0.864739</td>\n",
       "    </tr>\n",
       "    <tr>\n",
       "      <th>11</th>\n",
       "      <td>kNN Z - Pearson B</td>\n",
       "      <td>0.986441</td>\n",
       "      <td>0.849968</td>\n",
       "      <td>0.910767</td>\n",
       "    </tr>\n",
       "    <tr>\n",
       "      <th>7</th>\n",
       "      <td>kNN Means - Pearson B</td>\n",
       "      <td>0.985400</td>\n",
       "      <td>0.849444</td>\n",
       "      <td>0.907843</td>\n",
       "    </tr>\n",
       "    <tr>\n",
       "      <th>2</th>\n",
       "      <td>kNN Basic - Pearson</td>\n",
       "      <td>1.095482</td>\n",
       "      <td>0.846264</td>\n",
       "      <td>0.887821</td>\n",
       "    </tr>\n",
       "    <tr>\n",
       "      <th>3</th>\n",
       "      <td>kNN Basic - Pearson B</td>\n",
       "      <td>1.026674</td>\n",
       "      <td>0.835822</td>\n",
       "      <td>0.951032</td>\n",
       "    </tr>\n",
       "  </tbody>\n",
       "</table>\n",
       "</div>"
      ],
      "text/plain": [
       "                   Algorithm      RMSE  Precision    Recall\n",
       "21                       NMF  1.132062   0.902238  0.647081\n",
       "13        kNN Baseline - MSD  1.021009   0.878516  0.806803\n",
       "12     kNN Baseline - Cosine  1.022989   0.877679  0.807222\n",
       "4         kNN Means - Cosine  1.026102   0.872733  0.820434\n",
       "19              CoClustering  1.052364   0.872687  0.814877\n",
       "9                kNN Z - MSD  1.029817   0.872260  0.823811\n",
       "20                  SlopeOne  1.031187   0.872003  0.818548\n",
       "14    kNN Baseline - Pearson  1.044356   0.871899  0.823381\n",
       "8             kNN Z - Cosine  1.032567   0.871584  0.825772\n",
       "5            kNN Means - MSD  1.026867   0.871545  0.820742\n",
       "6        kNN Means - Pearson  1.050895   0.865610  0.837697\n",
       "17                     SVDpp  0.909414   0.864176  0.889405\n",
       "10           kNN Z - Pearson  1.047561   0.864059  0.839341\n",
       "16                       SVD  0.904947   0.863477  0.871282\n",
       "15  kNN Baseline - Pearson B  0.984349   0.860136  0.881130\n",
       "0         kNN Basic - Cosine  1.067450   0.857239  0.863415\n",
       "18             Baseline Only  0.887368   0.856771  0.919997\n",
       "1            kNN Basic - MSD  1.068189   0.856199  0.864739\n",
       "11         kNN Z - Pearson B  0.986441   0.849968  0.910767\n",
       "7      kNN Means - Pearson B  0.985400   0.849444  0.907843\n",
       "2        kNN Basic - Pearson  1.095482   0.846264  0.887821\n",
       "3      kNN Basic - Pearson B  1.026674   0.835822  0.951032"
      ]
     },
     "execution_count": 38,
     "metadata": {},
     "output_type": "execute_result"
    }
   ],
   "source": [
    "df.sort_values(by=['Precision'], ascending=False)"
   ]
  },
  {
   "cell_type": "markdown",
   "metadata": {},
   "source": [
    "Analisando as tabelas acima, podemos observar que os algoritmos **SVD** e **SVDpp** possuem um bom índice nas duas exigências, sendo, assim, os escolhidos."
   ]
  }
 ],
 "metadata": {
  "kernelspec": {
   "display_name": "Python 3",
   "language": "python",
   "name": "python3"
  },
  "language_info": {
   "codemirror_mode": {
    "name": "ipython",
    "version": 3
   },
   "file_extension": ".py",
   "mimetype": "text/x-python",
   "name": "python",
   "nbconvert_exporter": "python",
   "pygments_lexer": "ipython3",
   "version": "3.6.6"
  },
  "toc-showcode": true,
  "toc-showmarkdowntxt": false,
  "toc-showtags": false
 },
 "nbformat": 4,
 "nbformat_minor": 2
}
