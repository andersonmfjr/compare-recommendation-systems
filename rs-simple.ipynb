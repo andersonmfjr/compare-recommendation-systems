{
 "cells": [
  {
   "cell_type": "markdown",
   "metadata": {},
   "source": [
    "## Evaluation of recommender system algorithms in tourism"
   ]
  },
  {
   "cell_type": "markdown",
   "metadata": {},
   "source": [
    "## Calculation of iterations in cross-validation\n",
    "---"
   ]
  },
  {
   "cell_type": "code",
   "execution_count": 1,
   "metadata": {},
   "outputs": [],
   "source": [
    "# For better precision on tests\n",
    "import random\n",
    "import numpy as np\n",
    "\n",
    "# For plots some results\n",
    "import matplotlib.pyplot as plt\n",
    "## print(plt.style.available)\n",
    "plt.style.use('tableau-colorblind10') #seaborn-talk, fivethirtyeight\n",
    "%matplotlib inline\n",
    "\n",
    "from surprise import Reader, Dataset, KNNBasic, KNNWithMeans, SVD, SVDpp, CoClustering, SlopeOne\n",
    "from surprise.model_selection import cross_validate"
   ]
  },
  {
   "cell_type": "code",
   "execution_count": 2,
   "metadata": {},
   "outputs": [],
   "source": [
    "random.seed(0)\n",
    "np.random.seed(0)\n",
    "\n",
    "reader = Reader(line_format='user item rating', sep=',', rating_scale=(0,5))\n",
    "data = Dataset.load_from_file('tourism.csv', reader=reader)"
   ]
  },
  {
   "cell_type": "markdown",
   "metadata": {},
   "source": [
    "#### kNN Basic with Cosine Similarity"
   ]
  },
  {
   "cell_type": "code",
   "execution_count": 3,
   "metadata": {},
   "outputs": [
    {
     "name": "stdout",
     "output_type": "stream",
     "text": [
      "Computing the cosine similarity matrix...\n",
      "Done computing similarity matrix.\n",
      "Computing the cosine similarity matrix...\n",
      "Done computing similarity matrix.\n",
      "Computing the cosine similarity matrix...\n",
      "Done computing similarity matrix.\n",
      "Computing the cosine similarity matrix...\n",
      "Done computing similarity matrix.\n",
      "Computing the cosine similarity matrix...\n",
      "Done computing similarity matrix.\n",
      "{'test_rmse': array([0.87668529, 0.88197361, 0.86122794, 0.86805328, 0.84208085]), 'fit_time': (2.575563430786133, 2.9147753715515137, 2.726919174194336, 2.4931907653808594, 2.437941312789917), 'test_time': (0.8212623596191406, 0.8127315044403076, 0.6775562763214111, 0.6535718441009521, 0.6505720615386963)}\n"
     ]
    }
   ],
   "source": [
    "sim_options = {'name': 'cosine',\n",
    "               'user_based': True}\n",
    "\n",
    "algorithm = KNNBasic(k=40, min_k=3, sim_options=sim_options)\n",
    "\n",
    "kNNBasicCosine = cross_validate(algorithm, data, measures=['RMSE'], cv=5)\n",
    "print(kNNBasicCosine)"
   ]
  },
  {
   "cell_type": "markdown",
   "metadata": {},
   "source": [
    "#### kNN Basic with Pearson Similarity"
   ]
  },
  {
   "cell_type": "code",
   "execution_count": 4,
   "metadata": {},
   "outputs": [
    {
     "name": "stdout",
     "output_type": "stream",
     "text": [
      "Computing the pearson similarity matrix...\n",
      "Done computing similarity matrix.\n",
      "Computing the pearson similarity matrix...\n",
      "Done computing similarity matrix.\n",
      "Computing the pearson similarity matrix...\n",
      "Done computing similarity matrix.\n",
      "Computing the pearson similarity matrix...\n",
      "Done computing similarity matrix.\n",
      "Computing the pearson similarity matrix...\n",
      "Done computing similarity matrix.\n"
     ]
    }
   ],
   "source": [
    "sim_options = {'name': 'pearson',\n",
    "               'user_based': True}\n",
    "\n",
    "algorithm = KNNBasic(k=40, min_k=3, sim_options=sim_options)\n",
    "\n",
    "kNNBasicPearson = cross_validate(algorithm, data, measures=['RMSE'], cv=5)"
   ]
  },
  {
   "cell_type": "markdown",
   "metadata": {},
   "source": [
    "#### kNN Means with Cosine Similarity"
   ]
  },
  {
   "cell_type": "code",
   "execution_count": 5,
   "metadata": {},
   "outputs": [
    {
     "name": "stdout",
     "output_type": "stream",
     "text": [
      "Computing the cosine similarity matrix...\n",
      "Done computing similarity matrix.\n",
      "Computing the cosine similarity matrix...\n",
      "Done computing similarity matrix.\n",
      "Computing the cosine similarity matrix...\n",
      "Done computing similarity matrix.\n",
      "Computing the cosine similarity matrix...\n",
      "Done computing similarity matrix.\n",
      "Computing the cosine similarity matrix...\n",
      "Done computing similarity matrix.\n"
     ]
    }
   ],
   "source": [
    "sim_options = {'name': 'cosine','user_based': True}\n",
    "\n",
    "algorithm = KNNWithMeans(k=40, min_k=3, sim_options=sim_options)\n",
    "\n",
    "kNNMeansCosine = cross_validate(algorithm, data, measures=['RMSE'], cv=5)"
   ]
  },
  {
   "cell_type": "markdown",
   "metadata": {},
   "source": [
    "#### kNN Means with Pearson Similarity"
   ]
  },
  {
   "cell_type": "code",
   "execution_count": 6,
   "metadata": {},
   "outputs": [
    {
     "name": "stdout",
     "output_type": "stream",
     "text": [
      "Computing the pearson similarity matrix...\n",
      "Done computing similarity matrix.\n",
      "Computing the pearson similarity matrix...\n",
      "Done computing similarity matrix.\n",
      "Computing the pearson similarity matrix...\n",
      "Done computing similarity matrix.\n",
      "Computing the pearson similarity matrix...\n",
      "Done computing similarity matrix.\n",
      "Computing the pearson similarity matrix...\n",
      "Done computing similarity matrix.\n"
     ]
    }
   ],
   "source": [
    "sim_options = {'name': 'pearson',\n",
    "               'user_based': True}\n",
    "\n",
    "algorithm = KNNWithMeans(k=40, min_k=3, sim_options=sim_options)\n",
    "\n",
    "kNNMeansPearson = cross_validate(algorithm, data, measures=['RMSE'], cv=5)"
   ]
  },
  {
   "cell_type": "markdown",
   "metadata": {},
   "source": [
    "#### SVD"
   ]
  },
  {
   "cell_type": "code",
   "execution_count": 7,
   "metadata": {},
   "outputs": [],
   "source": [
    "algorithm = SVD(n_factors=20, n_epochs=20, lr_all=0.005, reg_all=0.02)\n",
    "\n",
    "svd = cross_validate(algorithm, data, measures=['RMSE'], cv=5)"
   ]
  },
  {
   "cell_type": "markdown",
   "metadata": {},
   "source": [
    "#### SVDpp"
   ]
  },
  {
   "cell_type": "code",
   "execution_count": 8,
   "metadata": {},
   "outputs": [],
   "source": [
    "algorithm = SVDpp(n_factors=20, n_epochs=20, lr_all=0.005, reg_all=0.02)\n",
    "\n",
    "svdpp = cross_validate(algorithm, data, measures=['RMSE'], cv=5)"
   ]
  },
  {
   "cell_type": "markdown",
   "metadata": {},
   "source": [
    "#### Co-Clustering"
   ]
  },
  {
   "cell_type": "code",
   "execution_count": 9,
   "metadata": {},
   "outputs": [],
   "source": [
    "algorithm = CoClustering(n_cltr_u=3, n_cltr_i=3, n_epochs=20)\n",
    "\n",
    "coclustering = cross_validate(algorithm, data, measures=['RMSE'], cv=5)"
   ]
  },
  {
   "cell_type": "markdown",
   "metadata": {},
   "source": [
    "#### SlopeOne"
   ]
  },
  {
   "cell_type": "code",
   "execution_count": 10,
   "metadata": {},
   "outputs": [],
   "source": [
    "algorithm = SlopeOne()\n",
    "\n",
    "slopeone = cross_validate(algorithm, data, measures=['RMSE'], cv=5)"
   ]
  },
  {
   "cell_type": "markdown",
   "metadata": {},
   "source": [
    "## Example of k-Fold Cross-Validate\n",
    "---"
   ]
  },
  {
   "cell_type": "markdown",
   "metadata": {},
   "source": [
    "#### With Algorithm SVD"
   ]
  },
  {
   "cell_type": "code",
   "execution_count": 11,
   "metadata": {},
   "outputs": [
    {
     "data": {
      "text/plain": [
       "Text(0.5,1,'Mean per Iteration')"
      ]
     },
     "execution_count": 11,
     "metadata": {},
     "output_type": "execute_result"
    },
    {
     "data": {
      "image/png": "[encoded data removed]",
      "text/plain": [
       "<Figure size 432x288 with 1 Axes>"
      ]
     },
     "metadata": {},
     "output_type": "display_data"
    }
   ],
   "source": [
    "k_folds = range(1, 6)\n",
    "svd_k_folds = svd['test_rmse']\n",
    "\n",
    "plt.plot(k_folds, svd_k_folds)\n",
    "plt.xlabel('Iteration')\n",
    "plt.ylabel('Mean')\n",
    "plt.title('Mean per Iteration')"
   ]
  },
  {
   "cell_type": "markdown",
   "metadata": {},
   "source": [
    "#### With Co-Clustering Algorithm"
   ]
  },
  {
   "cell_type": "code",
   "execution_count": 12,
   "metadata": {},
   "outputs": [
    {
     "data": {
      "text/plain": [
       "Text(0.5,1,'Mean per Iteration')"
      ]
     },
     "execution_count": 12,
     "metadata": {},
     "output_type": "execute_result"
    },
    {
     "data": {
      "image/png": "[encoded data removed]",
      "text/plain": [
       "<Figure size 432x288 with 1 Axes>"
      ]
     },
     "metadata": {},
     "output_type": "display_data"
    }
   ],
   "source": [
    "k_folds = range(1, 6)\n",
    "coclustering_k_folds = coclustering['test_rmse']\n",
    "\n",
    "plt.plot(k_folds, coclustering_k_folds)\n",
    "plt.xlabel('Iteration')\n",
    "plt.ylabel('Mean')\n",
    "plt.title('Mean per Iteration')"
   ]
  },
  {
   "cell_type": "markdown",
   "metadata": {},
   "source": [
    "## Calculate final means of algorithms\n",
    "---"
   ]
  },
  {
   "cell_type": "code",
   "execution_count": 13,
   "metadata": {},
   "outputs": [],
   "source": [
    "score_kNNBasicCosine = 0\n",
    "for mean in kNNBasicCosine['test_rmse']:\n",
    "    score_kNNBasicCosine = score_kNNBasicCosine + mean\n",
    "\n",
    "score_kNNBasicCosine = score_kNNBasicCosine / len(kNNBasicCosine['test_rmse'])"
   ]
  },
  {
   "cell_type": "code",
   "execution_count": 14,
   "metadata": {},
   "outputs": [],
   "source": [
    "score_kNNBasicPearson = 0\n",
    "for mean in kNNBasicPearson['test_rmse']:\n",
    "    score_kNNBasicPearson = score_kNNBasicPearson + mean\n",
    "\n",
    "score_kNNBasicPearson = score_kNNBasicPearson / len(kNNBasicPearson['test_rmse'])"
   ]
  },
  {
   "cell_type": "code",
   "execution_count": 15,
   "metadata": {},
   "outputs": [],
   "source": [
    "score_kNNMeansCosine = 0\n",
    "for mean in kNNMeansCosine['test_rmse']:\n",
    "    score_kNNMeansCosine = score_kNNMeansCosine + mean\n",
    "\n",
    "score_kNNMeansCosine = score_kNNMeansCosine / len(kNNMeansCosine['test_rmse'])"
   ]
  },
  {
   "cell_type": "code",
   "execution_count": 16,
   "metadata": {},
   "outputs": [],
   "source": [
    "score_kNNMeansPearson = 0\n",
    "for mean in kNNMeansPearson['test_rmse']:\n",
    "    score_kNNMeansPearson = score_kNNMeansPearson + mean\n",
    "\n",
    "score_kNNMeansPearson = score_kNNMeansPearson / len(kNNBasicPearson['test_rmse'])"
   ]
  },
  {
   "cell_type": "code",
   "execution_count": 17,
   "metadata": {},
   "outputs": [],
   "source": [
    "score_SVD = 0\n",
    "for mean in svd['test_rmse']:\n",
    "    score_SVD = score_SVD + mean\n",
    "\n",
    "score_SVD = score_SVD / len(svd['test_rmse'])"
   ]
  },
  {
   "cell_type": "code",
   "execution_count": 18,
   "metadata": {},
   "outputs": [],
   "source": [
    "score_SVDpp = 0\n",
    "for mean in svdpp['test_rmse']:\n",
    "    score_SVDpp = score_SVDpp + mean\n",
    "\n",
    "score_SVDpp = score_SVDpp / len(svdpp['test_rmse'])"
   ]
  },
  {
   "cell_type": "code",
   "execution_count": 19,
   "metadata": {},
   "outputs": [],
   "source": [
    "score_CoClustering = 0\n",
    "for mean in coclustering['test_rmse']:\n",
    "    score_CoClustering = score_CoClustering + mean\n",
    "\n",
    "score_CoClustering = score_CoClustering / len(coclustering['test_rmse'])"
   ]
  },
  {
   "cell_type": "code",
   "execution_count": 20,
   "metadata": {},
   "outputs": [],
   "source": [
    "score_SlopeOne = 0\n",
    "for mean in slopeone['test_rmse']:\n",
    "    score_SlopeOne = score_SlopeOne + mean\n",
    "\n",
    "score_SlopeOne = score_SlopeOne / len(slopeone['test_rmse'])"
   ]
  },
  {
   "cell_type": "markdown",
   "metadata": {},
   "source": [
    "## Ploting the results\n",
    "---"
   ]
  },
  {
   "cell_type": "code",
   "execution_count": 21,
   "metadata": {},
   "outputs": [
    {
     "name": "stdout",
     "output_type": "stream",
     "text": [
      "[0 1 2 3 4 5 6 7]\n",
      "8\n"
     ]
    }
   ],
   "source": [
    "scores = [score_kNNBasicCosine, score_kNNBasicPearson, score_kNNMeansCosine, \n",
    "          score_kNNMeansPearson, score_SVD, score_SVDpp,\n",
    "          score_CoClustering, score_SlopeOne]\n",
    "\n",
    "algorithms = ['kNN Basic - Cosine', 'kNN Basic - Pearson', 'kNN Means - Cosine', 'kNN Means - Pearson',\n",
    "              'SVD', 'SDVpp', 'Co-Clustering', 'Slope One']\n",
    "\n",
    "algorithms_index = np.arange(len(algorithms))"
   ]
  },
  {
   "cell_type": "code",
   "execution_count": 22,
   "metadata": {},
   "outputs": [
    {
     "data": {
      "text/plain": [
       "Text(0.5,1,'Comparison of prediction algorithms')"
      ]
     },
     "execution_count": 22,
     "metadata": {},
     "output_type": "execute_result"
    },
    {
     "data": {
      "image/png": "[encoded data removed]",
      "text/plain": [
       "<Figure size 432x288 with 1 Axes>"
      ]
     },
     "metadata": {},
     "output_type": "display_data"
    }
   ],
   "source": [
    "# plot the algorithms (x-axis) versus the cross-validated accuracy (y-axis)\n",
    "plt.barh(algorithms_index, scores)\n",
    "plt.ylabel('Algorithms Names')\n",
    "plt.xlabel('Cross-Validated Final Mean Accuracy')\n",
    "plt.yticks(algorithms_index, algorithms, rotation=10)\n",
    "plt.title('Comparison of prediction algorithms')"
   ]
  },
  {
   "cell_type": "code",
   "execution_count": null,
   "metadata": {},
   "outputs": [],
   "source": []
  }
 ],
 "metadata": {
  "kernelspec": {
   "display_name": "Python 3",
   "language": "python",
   "name": "python3"
  },
  "language_info": {
   "codemirror_mode": {
    "name": "ipython",
    "version": 3
   },
   "file_extension": ".py",
   "mimetype": "text/x-python",
   "name": "python",
   "nbconvert_exporter": "python",
   "pygments_lexer": "ipython3",
   "version": "3.6.5"
  }
 },
 "nbformat": 4,
 "nbformat_minor": 2
}
